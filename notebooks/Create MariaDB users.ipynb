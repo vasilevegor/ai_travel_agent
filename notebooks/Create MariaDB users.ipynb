{
 "cells": [
  {
   "cell_type": "code",
   "execution_count": 2,
   "id": "28669c6c-9546-4619-b00f-3c65bcc27a98",
   "metadata": {},
   "outputs": [],
   "source": [
    "from getpass import getpass\n",
    "from env import config\n",
    "from sqlalchemy import create_engine, text"
   ]
  },
  {
   "cell_type": "code",
   "execution_count": 3,
   "id": "b1ecc018-ef9e-4bd7-ac68-b9a62edb1f8a",
   "metadata": {},
   "outputs": [
    {
     "data": {
      "text/plain": [
       "True"
      ]
     },
     "execution_count": 3,
     "metadata": {},
     "output_type": "execute_result"
    }
   ],
   "source": [
    "DATABASE_URL = config(\"DATABASE_URL\", cast=str, default=None)\n",
    "DATABASE_URL is not None"
   ]
  },
  {
   "cell_type": "code",
   "execution_count": 4,
   "id": "9309f215-1ac4-4b59-a35a-3f63acb00f3b",
   "metadata": {},
   "outputs": [],
   "source": [
    "engine = create_engine(str(DATABASE_URL))"
   ]
  },
  {
   "cell_type": "code",
   "execution_count": 5,
   "id": "0e00ef57-4659-40d1-8535-11fdc0ceae62",
   "metadata": {},
   "outputs": [
    {
     "name": "stdin",
     "output_type": "stream",
     "text": [
      " ········\n"
     ]
    }
   ],
   "source": [
    "new_username = \"mindsdb\"\n",
    "new_password = getpass()"
   ]
  },
  {
   "cell_type": "code",
   "execution_count": 9,
   "id": "d47a13f2-d43b-4500-9e4d-0e7db2ce512d",
   "metadata": {},
   "outputs": [],
   "source": [
    "dbs = [\"housing_db\", \"ai_travel_prices\"]\n",
    "\n",
    "with engine.connect() as conn:\n",
    "    create_user_sql = f\"CREATE USER '{new_username}'@'%' IDENTIFIED BY '{new_password}';\"\n",
    "    conn.execute(text(create_user_sql))\n",
    "\n",
    "    for db in dbs:\n",
    "        db_sql_perms = f\"GRANT ALL PRIVILEGES on {db}.* TO '{new_username}'@'%';\"\n",
    "        conn.execute(text(db_sql_perms))\n",
    "\n",
    "    db_sql_new_dbs = f\"GRANT CREATE ON *.* to '{new_username}'@'%';\"\n",
    "    conn.execute(text(db_sql_new_dbs))\n",
    "\n",
    "    conn.execute(text(\"FLUSH PRIVILEGES;\"))"
   ]
  },
  {
   "cell_type": "code",
   "execution_count": 10,
   "id": "21740bf5-cff0-4a81-bb76-dc36c853c962",
   "metadata": {},
   "outputs": [
    {
     "name": "stdout",
     "output_type": "stream",
     "text": [
      "[('ai_travel_prices',), ('housing_db',), ('information_schema',), ('mysql',), ('performance_schema',), ('sys',)]\n"
     ]
    }
   ],
   "source": [
    "with engine.connect() as conn:\n",
    "    results = conn.execute(text(\"SHOW DATABASES\"))\n",
    "    print(results.all())"
   ]
  },
  {
   "cell_type": "code",
   "execution_count": null,
   "id": "ec9e644a-14f7-4502-8c27-4a2ac4c95653",
   "metadata": {},
   "outputs": [],
   "source": []
  }
 ],
 "metadata": {
  "kernelspec": {
   "display_name": "Python 3 (ipykernel)",
   "language": "python",
   "name": "python3"
  },
  "language_info": {
   "codemirror_mode": {
    "name": "ipython",
    "version": 3
   },
   "file_extension": ".py",
   "mimetype": "text/x-python",
   "name": "python",
   "nbconvert_exporter": "python",
   "pygments_lexer": "ipython3",
   "version": "3.12.0"
  }
 },
 "nbformat": 4,
 "nbformat_minor": 5
}
