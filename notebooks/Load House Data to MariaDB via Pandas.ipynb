{
 "cells": [
  {
   "cell_type": "code",
   "execution_count": 1,
   "id": "28669c6c-9546-4619-b00f-3c65bcc27a98",
   "metadata": {},
   "outputs": [],
   "source": [
    "from env import config, BASE_DIR\n",
    "from sqlalchemy import create_engine, text"
   ]
  },
  {
   "cell_type": "code",
   "execution_count": 2,
   "id": "b1ecc018-ef9e-4bd7-ac68-b9a62edb1f8a",
   "metadata": {},
   "outputs": [
    {
     "data": {
      "text/plain": [
       "True"
      ]
     },
     "execution_count": 2,
     "metadata": {},
     "output_type": "execute_result"
    }
   ],
   "source": [
    "DATABASE_URL = config(\"HOUSING_DATABASE_URL\", cast=str, default=None)\n",
    "DATABASE_URL is not None"
   ]
  },
  {
   "cell_type": "code",
   "execution_count": 3,
   "id": "9309f215-1ac4-4b59-a35a-3f63acb00f3b",
   "metadata": {},
   "outputs": [],
   "source": [
    "engine = create_engine(str(DATABASE_URL))"
   ]
  },
  {
   "cell_type": "code",
   "execution_count": 4,
   "id": "21740bf5-cff0-4a81-bb76-dc36c853c962",
   "metadata": {},
   "outputs": [
    {
     "data": {
      "text/plain": [
       "True"
      ]
     },
     "execution_count": 4,
     "metadata": {},
     "output_type": "execute_result"
    }
   ],
   "source": [
    "DATASET_DIR = BASE_DIR / \"datasets\"\n",
    "DATASET_DIR.exists()"
   ]
  },
  {
   "cell_type": "code",
   "execution_count": 5,
   "id": "53be2e4b-ece1-4518-9eda-ef31dba0bbe0",
   "metadata": {},
   "outputs": [
    {
     "data": {
      "text/plain": [
       "True"
      ]
     },
     "execution_count": 5,
     "metadata": {},
     "output_type": "execute_result"
    }
   ],
   "source": [
    "HOUSES_CSV = DATASET_DIR / \"housing_ds.csv\"\n",
    "HOUSES_CSV.exists()"
   ]
  },
  {
   "cell_type": "code",
   "execution_count": 6,
   "id": "c56b27ee-3ddd-40bf-98e5-243306812c75",
   "metadata": {},
   "outputs": [],
   "source": [
    "import pandas as pd"
   ]
  },
  {
   "cell_type": "code",
   "execution_count": 7,
   "id": "66c85c60-d000-4475-8a40-1c7080c19489",
   "metadata": {},
   "outputs": [
    {
     "data": {
      "text/html": [
       "<div>\n",
       "<style scoped>\n",
       "    .dataframe tbody tr th:only-of-type {\n",
       "        vertical-align: middle;\n",
       "    }\n",
       "\n",
       "    .dataframe tbody tr th {\n",
       "        vertical-align: top;\n",
       "    }\n",
       "\n",
       "    .dataframe thead th {\n",
       "        text-align: right;\n",
       "    }\n",
       "</style>\n",
       "<table border=\"1\" class=\"dataframe\">\n",
       "  <thead>\n",
       "    <tr style=\"text-align: right;\">\n",
       "      <th></th>\n",
       "      <th>saledate</th>\n",
       "      <th>MA</th>\n",
       "      <th>type</th>\n",
       "      <th>bedrooms</th>\n",
       "    </tr>\n",
       "  </thead>\n",
       "  <tbody>\n",
       "    <tr>\n",
       "      <th>0</th>\n",
       "      <td>30/09/2007</td>\n",
       "      <td>441854</td>\n",
       "      <td>house</td>\n",
       "      <td>2</td>\n",
       "    </tr>\n",
       "    <tr>\n",
       "      <th>1</th>\n",
       "      <td>31/12/2007</td>\n",
       "      <td>441854</td>\n",
       "      <td>house</td>\n",
       "      <td>2</td>\n",
       "    </tr>\n",
       "    <tr>\n",
       "      <th>2</th>\n",
       "      <td>31/03/2008</td>\n",
       "      <td>441854</td>\n",
       "      <td>house</td>\n",
       "      <td>2</td>\n",
       "    </tr>\n",
       "    <tr>\n",
       "      <th>3</th>\n",
       "      <td>30/06/2008</td>\n",
       "      <td>441854</td>\n",
       "      <td>house</td>\n",
       "      <td>2</td>\n",
       "    </tr>\n",
       "    <tr>\n",
       "      <th>4</th>\n",
       "      <td>30/09/2008</td>\n",
       "      <td>451583</td>\n",
       "      <td>house</td>\n",
       "      <td>2</td>\n",
       "    </tr>\n",
       "    <tr>\n",
       "      <th>5</th>\n",
       "      <td>31/12/2008</td>\n",
       "      <td>440256</td>\n",
       "      <td>house</td>\n",
       "      <td>2</td>\n",
       "    </tr>\n",
       "    <tr>\n",
       "      <th>6</th>\n",
       "      <td>31/03/2009</td>\n",
       "      <td>442566</td>\n",
       "      <td>house</td>\n",
       "      <td>2</td>\n",
       "    </tr>\n",
       "    <tr>\n",
       "      <th>7</th>\n",
       "      <td>30/06/2009</td>\n",
       "      <td>446113</td>\n",
       "      <td>house</td>\n",
       "      <td>2</td>\n",
       "    </tr>\n",
       "    <tr>\n",
       "      <th>8</th>\n",
       "      <td>30/09/2009</td>\n",
       "      <td>440123</td>\n",
       "      <td>house</td>\n",
       "      <td>2</td>\n",
       "    </tr>\n",
       "    <tr>\n",
       "      <th>9</th>\n",
       "      <td>31/12/2009</td>\n",
       "      <td>442131</td>\n",
       "      <td>house</td>\n",
       "      <td>2</td>\n",
       "    </tr>\n",
       "  </tbody>\n",
       "</table>\n",
       "</div>"
      ],
      "text/plain": [
       "     saledate      MA   type  bedrooms\n",
       "0  30/09/2007  441854  house         2\n",
       "1  31/12/2007  441854  house         2\n",
       "2  31/03/2008  441854  house         2\n",
       "3  30/06/2008  441854  house         2\n",
       "4  30/09/2008  451583  house         2\n",
       "5  31/12/2008  440256  house         2\n",
       "6  31/03/2009  442566  house         2\n",
       "7  30/06/2009  446113  house         2\n",
       "8  30/09/2009  440123  house         2\n",
       "9  31/12/2009  442131  house         2"
      ]
     },
     "execution_count": 7,
     "metadata": {},
     "output_type": "execute_result"
    }
   ],
   "source": [
    "df = pd.read_csv(str(HOUSES_CSV))\n",
    "df.head(10)"
   ]
  },
  {
   "cell_type": "code",
   "execution_count": 8,
   "id": "32af0e7a-481c-42f5-81bb-78461ba0e43a",
   "metadata": {},
   "outputs": [],
   "source": [
    "df['date'] = pd.to_datetime(df['saledate'], format=\"%d/%m/%Y\")"
   ]
  },
  {
   "cell_type": "code",
   "execution_count": 9,
   "id": "52e6c436-100a-4d75-a359-764198241b84",
   "metadata": {},
   "outputs": [],
   "source": [
    "df['price'] = df['MA']"
   ]
  },
  {
   "cell_type": "code",
   "execution_count": 10,
   "id": "05cf3a72-e4d5-4ea1-8801-e58e70b26487",
   "metadata": {},
   "outputs": [
    {
     "data": {
      "text/html": [
       "<div>\n",
       "<style scoped>\n",
       "    .dataframe tbody tr th:only-of-type {\n",
       "        vertical-align: middle;\n",
       "    }\n",
       "\n",
       "    .dataframe tbody tr th {\n",
       "        vertical-align: top;\n",
       "    }\n",
       "\n",
       "    .dataframe thead th {\n",
       "        text-align: right;\n",
       "    }\n",
       "</style>\n",
       "<table border=\"1\" class=\"dataframe\">\n",
       "  <thead>\n",
       "    <tr style=\"text-align: right;\">\n",
       "      <th></th>\n",
       "      <th>saledate</th>\n",
       "      <th>MA</th>\n",
       "      <th>type</th>\n",
       "      <th>bedrooms</th>\n",
       "      <th>date</th>\n",
       "      <th>price</th>\n",
       "    </tr>\n",
       "  </thead>\n",
       "  <tbody>\n",
       "    <tr>\n",
       "      <th>0</th>\n",
       "      <td>30/09/2007</td>\n",
       "      <td>441854</td>\n",
       "      <td>house</td>\n",
       "      <td>2</td>\n",
       "      <td>2007-09-30</td>\n",
       "      <td>441854</td>\n",
       "    </tr>\n",
       "    <tr>\n",
       "      <th>1</th>\n",
       "      <td>31/12/2007</td>\n",
       "      <td>441854</td>\n",
       "      <td>house</td>\n",
       "      <td>2</td>\n",
       "      <td>2007-12-31</td>\n",
       "      <td>441854</td>\n",
       "    </tr>\n",
       "    <tr>\n",
       "      <th>2</th>\n",
       "      <td>31/03/2008</td>\n",
       "      <td>441854</td>\n",
       "      <td>house</td>\n",
       "      <td>2</td>\n",
       "      <td>2008-03-31</td>\n",
       "      <td>441854</td>\n",
       "    </tr>\n",
       "    <tr>\n",
       "      <th>3</th>\n",
       "      <td>30/06/2008</td>\n",
       "      <td>441854</td>\n",
       "      <td>house</td>\n",
       "      <td>2</td>\n",
       "      <td>2008-06-30</td>\n",
       "      <td>441854</td>\n",
       "    </tr>\n",
       "    <tr>\n",
       "      <th>4</th>\n",
       "      <td>30/09/2008</td>\n",
       "      <td>451583</td>\n",
       "      <td>house</td>\n",
       "      <td>2</td>\n",
       "      <td>2008-09-30</td>\n",
       "      <td>451583</td>\n",
       "    </tr>\n",
       "    <tr>\n",
       "      <th>5</th>\n",
       "      <td>31/12/2008</td>\n",
       "      <td>440256</td>\n",
       "      <td>house</td>\n",
       "      <td>2</td>\n",
       "      <td>2008-12-31</td>\n",
       "      <td>440256</td>\n",
       "    </tr>\n",
       "    <tr>\n",
       "      <th>6</th>\n",
       "      <td>31/03/2009</td>\n",
       "      <td>442566</td>\n",
       "      <td>house</td>\n",
       "      <td>2</td>\n",
       "      <td>2009-03-31</td>\n",
       "      <td>442566</td>\n",
       "    </tr>\n",
       "    <tr>\n",
       "      <th>7</th>\n",
       "      <td>30/06/2009</td>\n",
       "      <td>446113</td>\n",
       "      <td>house</td>\n",
       "      <td>2</td>\n",
       "      <td>2009-06-30</td>\n",
       "      <td>446113</td>\n",
       "    </tr>\n",
       "    <tr>\n",
       "      <th>8</th>\n",
       "      <td>30/09/2009</td>\n",
       "      <td>440123</td>\n",
       "      <td>house</td>\n",
       "      <td>2</td>\n",
       "      <td>2009-09-30</td>\n",
       "      <td>440123</td>\n",
       "    </tr>\n",
       "    <tr>\n",
       "      <th>9</th>\n",
       "      <td>31/12/2009</td>\n",
       "      <td>442131</td>\n",
       "      <td>house</td>\n",
       "      <td>2</td>\n",
       "      <td>2009-12-31</td>\n",
       "      <td>442131</td>\n",
       "    </tr>\n",
       "  </tbody>\n",
       "</table>\n",
       "</div>"
      ],
      "text/plain": [
       "     saledate      MA   type  bedrooms       date   price\n",
       "0  30/09/2007  441854  house         2 2007-09-30  441854\n",
       "1  31/12/2007  441854  house         2 2007-12-31  441854\n",
       "2  31/03/2008  441854  house         2 2008-03-31  441854\n",
       "3  30/06/2008  441854  house         2 2008-06-30  441854\n",
       "4  30/09/2008  451583  house         2 2008-09-30  451583\n",
       "5  31/12/2008  440256  house         2 2008-12-31  440256\n",
       "6  31/03/2009  442566  house         2 2009-03-31  442566\n",
       "7  30/06/2009  446113  house         2 2009-06-30  446113\n",
       "8  30/09/2009  440123  house         2 2009-09-30  440123\n",
       "9  31/12/2009  442131  house         2 2009-12-31  442131"
      ]
     },
     "execution_count": 10,
     "metadata": {},
     "output_type": "execute_result"
    }
   ],
   "source": [
    "df.head(10)"
   ]
  },
  {
   "cell_type": "code",
   "execution_count": 11,
   "id": "129284e2-bf53-45a9-a2d5-b891f6d8aa23",
   "metadata": {},
   "outputs": [],
   "source": [
    "out_df = df.copy()[['date', 'price', 'type', 'bedrooms']]"
   ]
  },
  {
   "cell_type": "code",
   "execution_count": 12,
   "id": "e470feac-f8e6-4a79-95e7-3e368308a277",
   "metadata": {},
   "outputs": [
    {
     "data": {
      "text/plain": [
       "saledate            object\n",
       "MA                   int64\n",
       "type                object\n",
       "bedrooms             int64\n",
       "date        datetime64[ns]\n",
       "price                int64\n",
       "dtype: object"
      ]
     },
     "execution_count": 12,
     "metadata": {},
     "output_type": "execute_result"
    }
   ],
   "source": [
    "df.dtypes"
   ]
  },
  {
   "cell_type": "code",
   "execution_count": 13,
   "id": "ea40d33b-f275-4c19-a5e6-7d912c04b163",
   "metadata": {},
   "outputs": [
    {
     "data": {
      "text/plain": [
       "347"
      ]
     },
     "execution_count": 13,
     "metadata": {},
     "output_type": "execute_result"
    }
   ],
   "source": [
    "table_name = \"kaggle_house_data\"\n",
    "out_df.to_sql(table_name, engine, if_exists='replace', index=False)"
   ]
  },
  {
   "cell_type": "code",
   "execution_count": 11,
   "id": "49962ab5-66db-47ae-a687-ff0ec8da6548",
   "metadata": {},
   "outputs": [
    {
     "name": "stdout",
     "output_type": "stream",
     "text": [
      "[('30/09/2007', 441854, 'house', 2, datetime.datetime(2007, 9, 30, 0, 0)), ('31/12/2007', 441854, 'house', 2, datetime.datetime(2007, 12, 31, 0, 0)), ('31/03/2008', 441854, 'house', 2, datetime.datetime(2008, 3, 31, 0, 0)), ('30/06/2008', 441854, 'house', 2, datetime.datetime(2008, 6, 30, 0, 0)), ('30/09/2008', 451583, 'house', 2, datetime.datetime(2008, 9, 30, 0, 0)), ('31/12/2008', 440256, 'house', 2, datetime.datetime(2008, 12, 31, 0, 0)), ('31/03/2009', 442566, 'house', 2, datetime.datetime(2009, 3, 31, 0, 0)), ('30/06/2009', 446113, 'house', 2, datetime.datetime(2009, 6, 30, 0, 0)), ('30/09/2009', 440123, 'house', 2, datetime.datetime(2009, 9, 30, 0, 0)), ('31/12/2009', 442131, 'house', 2, datetime.datetime(2009, 12, 31, 0, 0))]\n"
     ]
    }
   ],
   "source": [
    "with engine.connect() as conn:\n",
    "    results = conn.execute(text(f\"SELECT * FROM {table_name} LIMIT 10\"))\n",
    "    print(results.all())"
   ]
  },
  {
   "cell_type": "code",
   "execution_count": null,
   "id": "56352c04-f078-4b41-80a2-be803b700d35",
   "metadata": {},
   "outputs": [],
   "source": []
  }
 ],
 "metadata": {
  "kernelspec": {
   "display_name": "Python 3 (ipykernel)",
   "language": "python",
   "name": "python3"
  },
  "language_info": {
   "codemirror_mode": {
    "name": "ipython",
    "version": 3
   },
   "file_extension": ".py",
   "mimetype": "text/x-python",
   "name": "python",
   "nbconvert_exporter": "python",
   "pygments_lexer": "ipython3",
   "version": "3.12.0"
  }
 },
 "nbformat": 4,
 "nbformat_minor": 5
}
