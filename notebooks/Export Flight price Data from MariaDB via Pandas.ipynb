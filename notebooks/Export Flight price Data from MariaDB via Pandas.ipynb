{
 "cells": [
  {
   "cell_type": "code",
   "execution_count": 1,
   "id": "28669c6c-9546-4619-b00f-3c65bcc27a98",
   "metadata": {},
   "outputs": [],
   "source": [
    "from env import config, BASE_DIR\n",
    "from sqlalchemy import create_engine, text"
   ]
  },
  {
   "cell_type": "code",
   "execution_count": 2,
   "id": "b1ecc018-ef9e-4bd7-ac68-b9a62edb1f8a",
   "metadata": {},
   "outputs": [
    {
     "data": {
      "text/plain": [
       "True"
      ]
     },
     "execution_count": 2,
     "metadata": {},
     "output_type": "execute_result"
    }
   ],
   "source": [
    "DATABASE_URL = config(\"FLIGHT_PRICES_DATABASE_URL\", cast=str, default=None)\n",
    "DATABASE_URL is not None"
   ]
  },
  {
   "cell_type": "code",
   "execution_count": 3,
   "id": "9309f215-1ac4-4b59-a35a-3f63acb00f3b",
   "metadata": {},
   "outputs": [],
   "source": [
    "engine = create_engine(str(DATABASE_URL))"
   ]
  },
  {
   "cell_type": "code",
   "execution_count": 4,
   "id": "21740bf5-cff0-4a81-bb76-dc36c853c962",
   "metadata": {},
   "outputs": [
    {
     "data": {
      "text/plain": [
       "True"
      ]
     },
     "execution_count": 4,
     "metadata": {},
     "output_type": "execute_result"
    }
   ],
   "source": [
    "DATASET_DIR = BASE_DIR / \"datasets\"\n",
    "DATASET_DIR.exists()"
   ]
  },
  {
   "cell_type": "code",
   "execution_count": 5,
   "id": "53be2e4b-ece1-4518-9eda-ef31dba0bbe0",
   "metadata": {},
   "outputs": [
    {
     "data": {
      "text/plain": [
       "True"
      ]
     },
     "execution_count": 5,
     "metadata": {},
     "output_type": "execute_result"
    }
   ],
   "source": [
    "FLIGHT_PRICES_CSV = DATASET_DIR / \"itineraries-min-50k.csv\"\n",
    "FLIGHT_PRICES_CSV.exists()"
   ]
  },
  {
   "cell_type": "code",
   "execution_count": 6,
   "id": "c56b27ee-3ddd-40bf-98e5-243306812c75",
   "metadata": {},
   "outputs": [],
   "source": [
    "import pandas as pd"
   ]
  },
  {
   "cell_type": "code",
   "execution_count": 9,
   "id": "ea40d33b-f275-4c19-a5e6-7d912c04b163",
   "metadata": {},
   "outputs": [],
   "source": [
    "table_name = \"flight_prices\"\n",
    "df = pd.read_sql(table_name, engine, index_col=\"index\")"
   ]
  },
  {
   "cell_type": "code",
   "execution_count": 11,
   "id": "66c85c60-d000-4475-8a40-1c7080c19489",
   "metadata": {},
   "outputs": [
    {
     "data": {
      "text/html": [
       "<div>\n",
       "<style scoped>\n",
       "    .dataframe tbody tr th:only-of-type {\n",
       "        vertical-align: middle;\n",
       "    }\n",
       "\n",
       "    .dataframe tbody tr th {\n",
       "        vertical-align: top;\n",
       "    }\n",
       "\n",
       "    .dataframe thead th {\n",
       "        text-align: right;\n",
       "    }\n",
       "</style>\n",
       "<table border=\"1\" class=\"dataframe\">\n",
       "  <thead>\n",
       "    <tr style=\"text-align: right;\">\n",
       "      <th></th>\n",
       "      <th>flightDate</th>\n",
       "      <th>startingAirport</th>\n",
       "      <th>destinationAirport</th>\n",
       "      <th>isBasicEconomy</th>\n",
       "      <th>isRefundable</th>\n",
       "      <th>isNonStop</th>\n",
       "      <th>segmentsAirlineName</th>\n",
       "      <th>totalFare</th>\n",
       "    </tr>\n",
       "    <tr>\n",
       "      <th>index</th>\n",
       "      <th></th>\n",
       "      <th></th>\n",
       "      <th></th>\n",
       "      <th></th>\n",
       "      <th></th>\n",
       "      <th></th>\n",
       "      <th></th>\n",
       "      <th></th>\n",
       "    </tr>\n",
       "  </thead>\n",
       "  <tbody>\n",
       "    <tr>\n",
       "      <th>0</th>\n",
       "      <td>2022-04-17</td>\n",
       "      <td>ATL</td>\n",
       "      <td>BOS</td>\n",
       "      <td>0</td>\n",
       "      <td>0</td>\n",
       "      <td>0</td>\n",
       "      <td>American Airlines||American Airlines</td>\n",
       "      <td>273</td>\n",
       "    </tr>\n",
       "    <tr>\n",
       "      <th>1</th>\n",
       "      <td>2022-04-17</td>\n",
       "      <td>ATL</td>\n",
       "      <td>BOS</td>\n",
       "      <td>0</td>\n",
       "      <td>0</td>\n",
       "      <td>0</td>\n",
       "      <td>Spirit Airlines||Spirit Airlines</td>\n",
       "      <td>301</td>\n",
       "    </tr>\n",
       "    <tr>\n",
       "      <th>2</th>\n",
       "      <td>2022-04-17</td>\n",
       "      <td>ATL</td>\n",
       "      <td>BOS</td>\n",
       "      <td>0</td>\n",
       "      <td>0</td>\n",
       "      <td>0</td>\n",
       "      <td>United||United</td>\n",
       "      <td>352</td>\n",
       "    </tr>\n",
       "    <tr>\n",
       "      <th>3</th>\n",
       "      <td>2022-04-17</td>\n",
       "      <td>ATL</td>\n",
       "      <td>BOS</td>\n",
       "      <td>0</td>\n",
       "      <td>0</td>\n",
       "      <td>1</td>\n",
       "      <td>American Airlines</td>\n",
       "      <td>355</td>\n",
       "    </tr>\n",
       "    <tr>\n",
       "      <th>4</th>\n",
       "      <td>2022-04-17</td>\n",
       "      <td>ATL</td>\n",
       "      <td>BOS</td>\n",
       "      <td>0</td>\n",
       "      <td>0</td>\n",
       "      <td>1</td>\n",
       "      <td>Delta</td>\n",
       "      <td>307</td>\n",
       "    </tr>\n",
       "  </tbody>\n",
       "</table>\n",
       "</div>"
      ],
      "text/plain": [
       "      flightDate startingAirport destinationAirport  isBasicEconomy  \\\n",
       "index                                                                 \n",
       "0     2022-04-17             ATL                BOS               0   \n",
       "1     2022-04-17             ATL                BOS               0   \n",
       "2     2022-04-17             ATL                BOS               0   \n",
       "3     2022-04-17             ATL                BOS               0   \n",
       "4     2022-04-17             ATL                BOS               0   \n",
       "\n",
       "       isRefundable  isNonStop                   segmentsAirlineName  \\\n",
       "index                                                                  \n",
       "0                 0          0  American Airlines||American Airlines   \n",
       "1                 0          0      Spirit Airlines||Spirit Airlines   \n",
       "2                 0          0                        United||United   \n",
       "3                 0          1                     American Airlines   \n",
       "4                 0          1                                 Delta   \n",
       "\n",
       "       totalFare  \n",
       "index             \n",
       "0            273  \n",
       "1            301  \n",
       "2            352  \n",
       "3            355  \n",
       "4            307  "
      ]
     },
     "execution_count": 11,
     "metadata": {},
     "output_type": "execute_result"
    }
   ],
   "source": [
    "df.head(5)"
   ]
  },
  {
   "cell_type": "code",
   "execution_count": 12,
   "id": "cf52af8f-b1e7-469b-ba31-6554f621ca7c",
   "metadata": {},
   "outputs": [
    {
     "data": {
      "text/plain": [
       "False"
      ]
     },
     "execution_count": 12,
     "metadata": {},
     "output_type": "execute_result"
    }
   ],
   "source": [
    "SQL_DUMP_CSV = DATASET_DIR / \"sql_dump.csv\"\n",
    "SQL_DUMP_CSV.exists()"
   ]
  },
  {
   "cell_type": "code",
   "execution_count": 14,
   "id": "d39bfbb1-ea5b-44da-9eb3-74cd83e4a6b3",
   "metadata": {},
   "outputs": [],
   "source": [
    "df.to_csv(SQL_DUMP_CSV, index=False)"
   ]
  },
  {
   "cell_type": "code",
   "execution_count": null,
   "id": "a2e3531f-2fc7-4e76-9485-30b10e4fadbd",
   "metadata": {},
   "outputs": [],
   "source": []
  }
 ],
 "metadata": {
  "kernelspec": {
   "display_name": "Python 3 (ipykernel)",
   "language": "python",
   "name": "python3"
  },
  "language_info": {
   "codemirror_mode": {
    "name": "ipython",
    "version": 3
   },
   "file_extension": ".py",
   "mimetype": "text/x-python",
   "name": "python",
   "nbconvert_exporter": "python",
   "pygments_lexer": "ipython3",
   "version": "3.12.0"
  }
 },
 "nbformat": 4,
 "nbformat_minor": 5
}
