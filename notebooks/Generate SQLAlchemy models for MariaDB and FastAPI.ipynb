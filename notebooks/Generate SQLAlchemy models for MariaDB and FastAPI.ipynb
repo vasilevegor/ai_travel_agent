{
 "cells": [
  {
   "cell_type": "code",
   "execution_count": 9,
   "id": "28669c6c-9546-4619-b00f-3c65bcc27a98",
   "metadata": {},
   "outputs": [],
   "source": [
    "from env import config\n",
    "from sqlalchemy import create_engine, text, Column, BigInteger, Date, Integer, String, Boolean\n",
    "from sqlalchemy.orm import sessionmaker, DeclarativeBase\n",
    "from datetime import date\n",
    "from pydantic import BaseModel"
   ]
  },
  {
   "cell_type": "code",
   "execution_count": 2,
   "id": "2a586eaf-3f9c-4f57-bf2e-87850398cdf9",
   "metadata": {},
   "outputs": [],
   "source": [
    "class Base(DeclarativeBase):\n",
    "    pass"
   ]
  },
  {
   "cell_type": "code",
   "execution_count": 3,
   "id": "b1ecc018-ef9e-4bd7-ac68-b9a62edb1f8a",
   "metadata": {},
   "outputs": [
    {
     "data": {
      "text/plain": [
       "True"
      ]
     },
     "execution_count": 3,
     "metadata": {},
     "output_type": "execute_result"
    }
   ],
   "source": [
    "DATABASE_URL = config(\"FLIGHT_PRICES_DATABASE_URL\", cast=str, default=None)\n",
    "DATABASE_URL is not None"
   ]
  },
  {
   "cell_type": "code",
   "execution_count": 4,
   "id": "9309f215-1ac4-4b59-a35a-3f63acb00f3b",
   "metadata": {},
   "outputs": [],
   "source": [
    "engine = create_engine(str(DATABASE_URL))"
   ]
  },
  {
   "cell_type": "code",
   "execution_count": 5,
   "id": "cd9565e2-db28-4a01-8edd-725ed25730c0",
   "metadata": {},
   "outputs": [],
   "source": [
    "# flightDate             datetime64[ns]\n",
    "# startingAirport                object\n",
    "# destinationAirport             object\n",
    "# isBasicEconomy                   bool\n",
    "# isRefundable                     bool\n",
    "# isNonStop                        bool\n",
    "# segmentsAirlineName            object\n",
    "# totalFare                       int64  int64"
   ]
  },
  {
   "cell_type": "code",
   "execution_count": 22,
   "id": "198ff2d6-038a-4473-8019-da892e64c5de",
   "metadata": {},
   "outputs": [
    {
     "name": "stderr",
     "output_type": "stream",
     "text": [
      "C:\\Users\\vasil\\AppData\\Local\\Temp\\ipykernel_904\\112330914.py:1: SAWarning: This declarative base already contains a class with the same class name and module name as __main__.FlightPrice, and will be replaced in the string-lookup table.\n",
      "  class FlightPrice(Base):\n"
     ]
    }
   ],
   "source": [
    "class FlightPrice(Base):\n",
    "    __tablename__ = \"flight_prices\"\n",
    "    __table_args__ = {\"extend_existing\": True}\n",
    "    \n",
    "    id = Column(\"index\", BigInteger, primary_key=True)\n",
    "    flightDate = Column(Date)\n",
    "    startingAirport = Column(String)\n",
    "    destinationAirport = Column(String)\n",
    "    isBasicEconomy = Column(Boolean)\n",
    "    isRefundable = Column(Boolean)\n",
    "    isNonStop = Column(Boolean)\n",
    "    segmentsAirlineName = Column(String)\n",
    "    totalFare = Column(Integer)"
   ]
  },
  {
   "cell_type": "code",
   "execution_count": 18,
   "id": "07a060ac-5781-47f6-9ec4-5623caf0a46f",
   "metadata": {},
   "outputs": [
    {
     "name": "stdout",
     "output_type": "stream",
     "text": [
      "0 2022-04-17 00:00:00\n",
      "1 2022-04-17 00:00:00\n",
      "2 2022-04-17 00:00:00\n",
      "3 2022-04-17 00:00:00\n",
      "4 2022-04-17 00:00:00\n",
      "5 2022-04-17 00:00:00\n",
      "6 2022-04-17 00:00:00\n",
      "7 2022-04-17 00:00:00\n",
      "8 2022-04-17 00:00:00\n",
      "9 2022-04-17 00:00:00\n"
     ]
    }
   ],
   "source": [
    "SessionLocal = sessionmaker(bind=engine)\n",
    "session = SessionLocal()\n",
    "\n",
    "queryset = session.query(FlightPrice).limit(10).all()\n",
    "for row_value in queryset:\n",
    "    print(row_value.id, row_value.flight_date,)\n",
    "\n",
    "session.close()"
   ]
  },
  {
   "cell_type": "code",
   "execution_count": 23,
   "id": "daea9c78-2eae-4536-85f2-374c5697abe5",
   "metadata": {},
   "outputs": [],
   "source": [
    "class FlightPriceSchema(BaseModel): # Pydantic\n",
    "    id: int\n",
    "    flightDate: date\n",
    "    startingAirport: str\n",
    "    destinationAirport: str\n",
    "    isBasicEconomy: bool\n",
    "    isRefundable: bool\n",
    "    isNonStop: bool\n",
    "    segmentsAirlineName: str\n",
    "    totalFare: int\n",
    "\n",
    "    class Config:\n",
    "        from_attributes = True"
   ]
  },
  {
   "cell_type": "code",
   "execution_count": 24,
   "id": "e538cc51-cedc-4298-902f-80728d813599",
   "metadata": {},
   "outputs": [
    {
     "name": "stdout",
     "output_type": "stream",
     "text": [
      "{\"id\":0,\"flightDate\":\"2022-04-17\",\"startingAirport\":\"ATL\",\"destinationAirport\":\"BOS\",\"isBasicEconomy\":false,\"isRefundable\":false,\"isNonStop\":false,\"segmentsAirlineName\":\"American Airlines||American Airlines\",\"totalFare\":273}\n",
      "{\"id\":1,\"flightDate\":\"2022-04-17\",\"startingAirport\":\"ATL\",\"destinationAirport\":\"BOS\",\"isBasicEconomy\":false,\"isRefundable\":false,\"isNonStop\":false,\"segmentsAirlineName\":\"Spirit Airlines||Spirit Airlines\",\"totalFare\":301}\n",
      "{\"id\":2,\"flightDate\":\"2022-04-17\",\"startingAirport\":\"ATL\",\"destinationAirport\":\"BOS\",\"isBasicEconomy\":false,\"isRefundable\":false,\"isNonStop\":false,\"segmentsAirlineName\":\"United||United\",\"totalFare\":352}\n",
      "{\"id\":3,\"flightDate\":\"2022-04-17\",\"startingAirport\":\"ATL\",\"destinationAirport\":\"BOS\",\"isBasicEconomy\":false,\"isRefundable\":false,\"isNonStop\":true,\"segmentsAirlineName\":\"American Airlines\",\"totalFare\":355}\n",
      "{\"id\":4,\"flightDate\":\"2022-04-17\",\"startingAirport\":\"ATL\",\"destinationAirport\":\"BOS\",\"isBasicEconomy\":false,\"isRefundable\":false,\"isNonStop\":true,\"segmentsAirlineName\":\"Delta\",\"totalFare\":307}\n",
      "{\"id\":5,\"flightDate\":\"2022-04-17\",\"startingAirport\":\"ATL\",\"destinationAirport\":\"BOS\",\"isBasicEconomy\":false,\"isRefundable\":false,\"isNonStop\":true,\"segmentsAirlineName\":\"JetBlue Airways\",\"totalFare\":302}\n",
      "{\"id\":6,\"flightDate\":\"2022-04-17\",\"startingAirport\":\"ATL\",\"destinationAirport\":\"BOS\",\"isBasicEconomy\":true,\"isRefundable\":false,\"isNonStop\":false,\"segmentsAirlineName\":\"United||United\",\"totalFare\":307}\n",
      "{\"id\":7,\"flightDate\":\"2022-04-17\",\"startingAirport\":\"ATL\",\"destinationAirport\":\"CLT\",\"isBasicEconomy\":false,\"isRefundable\":false,\"isNonStop\":false,\"segmentsAirlineName\":\"American Airlines||American Airlines\",\"totalFare\":492}\n",
      "{\"id\":8,\"flightDate\":\"2022-04-17\",\"startingAirport\":\"ATL\",\"destinationAirport\":\"CLT\",\"isBasicEconomy\":false,\"isRefundable\":false,\"isNonStop\":false,\"segmentsAirlineName\":\"JetBlue Airways||JetBlue Airways\",\"totalFare\":543}\n",
      "{\"id\":9,\"flightDate\":\"2022-04-17\",\"startingAirport\":\"ATL\",\"destinationAirport\":\"CLT\",\"isBasicEconomy\":false,\"isRefundable\":false,\"isNonStop\":false,\"segmentsAirlineName\":\"United||United\",\"totalFare\":467}\n"
     ]
    },
    {
     "name": "stderr",
     "output_type": "stream",
     "text": [
      "C:\\Users\\vasil\\AppData\\Local\\Temp\\ipykernel_904\\4260602018.py:6: PydanticDeprecatedSince20: The `from_orm` method is deprecated; set `model_config['from_attributes']=True` and use `model_validate` instead. Deprecated in Pydantic V2.0 to be removed in V3.0. See Pydantic V2 Migration Guide at https://errors.pydantic.dev/2.4/migration/\n",
      "  data = FlightPriceSchema.from_orm(row_value)\n",
      "C:\\Users\\vasil\\AppData\\Local\\Temp\\ipykernel_904\\4260602018.py:7: PydanticDeprecatedSince20: The `json` method is deprecated; use `model_dump_json` instead. Deprecated in Pydantic V2.0 to be removed in V3.0. See Pydantic V2 Migration Guide at https://errors.pydantic.dev/2.4/migration/\n",
      "  print(data.json())\n"
     ]
    }
   ],
   "source": [
    "SessionLocal = sessionmaker(bind=engine)\n",
    "session = SessionLocal()\n",
    "\n",
    "queryset = session.query(FlightPrice).limit(10).all()\n",
    "for row_value in queryset:\n",
    "    data = FlightPriceSchema.from_orm(row_value)\n",
    "    print(data.json())\n",
    "\n",
    "session.close()"
   ]
  },
  {
   "cell_type": "code",
   "execution_count": null,
   "id": "7b1159c1-8703-4b07-b5d6-1919d2e2ef12",
   "metadata": {},
   "outputs": [],
   "source": []
  }
 ],
 "metadata": {
  "kernelspec": {
   "display_name": "Python 3 (ipykernel)",
   "language": "python",
   "name": "python3"
  },
  "language_info": {
   "codemirror_mode": {
    "name": "ipython",
    "version": 3
   },
   "file_extension": ".py",
   "mimetype": "text/x-python",
   "name": "python",
   "nbconvert_exporter": "python",
   "pygments_lexer": "ipython3",
   "version": "3.12.0"
  }
 },
 "nbformat": 4,
 "nbformat_minor": 5
}
