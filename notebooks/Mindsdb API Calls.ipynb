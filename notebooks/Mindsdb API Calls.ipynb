{
 "cells": [
  {
   "cell_type": "code",
   "execution_count": 23,
   "id": "eb1c6ab8-7544-4d23-b27e-86053c7afb6c",
   "metadata": {},
   "outputs": [],
   "source": [
    "from env import config\n",
    "import requests\n",
    "import json"
   ]
  },
  {
   "cell_type": "code",
   "execution_count": 2,
   "id": "1f315262-3cd4-4f05-b002-85fda59e331d",
   "metadata": {},
   "outputs": [],
   "source": [
    "MINDSDB_UN = config(\"MINDSDB_UN\", default=None)\n",
    "MINDSDB_PW = config(\"MINDSDB_PW\", default=None)\n",
    "assert MINDSDB_UN is not None\n",
    "assert MINDSDB_PW is not None\n",
    "\n",
    "\n",
    "MINDSDB_BASE_URL = \"https://cloud.mindsdb.com/api\""
   ]
  },
  {
   "cell_type": "code",
   "execution_count": 3,
   "id": "dbc52daf-fb12-4f50-ac5c-2d99ee80d7c6",
   "metadata": {},
   "outputs": [],
   "source": [
    "def get_mindsdb_session():\n",
    "    session = requests.Session()\n",
    "    session.post('https://cloud.mindsdb.com/cloud/login', json={\n",
    "        'email': MINDSDB_UN,\n",
    "        'password': MINDSDB_PW\n",
    "    })\n",
    "    return session"
   ]
  },
  {
   "cell_type": "code",
   "execution_count": 4,
   "id": "2d64c425-c461-4b37-b7ea-b0afbc3c1e9e",
   "metadata": {},
   "outputs": [],
   "source": [
    "def mindsdb_query(session, sql_query):\n",
    "    endpoint = \"/sql/query\"\n",
    "    url = f\"{MINDSDB_BASE_URL}{endpoint}\"\n",
    "    headers = {\"Content-Type\": \"application/json\"}\n",
    "    return session.post(url, json={\"query\": sql_query}, headers=headers)"
   ]
  },
  {
   "cell_type": "code",
   "execution_count": 13,
   "id": "3660c3ad-1eec-4b40-b648-6c86a37108b9",
   "metadata": {},
   "outputs": [],
   "source": [
    "def predict_query(session, \n",
    "                  flightDate=\"2022-04-21\", \n",
    "                  startingAirport=\"LAX\", \n",
    "                  isNonStop=1,\n",
    "                  isBasicEconomy=0,\n",
    "                  isRefundable=0, \n",
    "                  destinationAirport=\"JFK\",\n",
    "                  raw_request=False,\n",
    "                  **kwargs,\n",
    "                 ):\n",
    "    sql_query = f\"\"\"\n",
    "    SELECT m.flightDate as date, m.segmentsAirlineName as airline, m.isNonStop as nonStop, m.isBasicEconomy as basic, m.isRefundable as refundable, m.totalFare as price FROM mindsdb.flight_price_predictor AS m\n",
    "    JOIN ai_travel_agent.flight_prices AS t\n",
    "    WHERE t.flightDate >= \"{flightDate}\"\n",
    "    AND t.startingAirport = \"{startingAirport}\"\n",
    "    AND t.isBasicEconomy = \"{isBasicEconomy}\"\n",
    "    AND t.isRefundable = \"{isRefundable}\"\n",
    "    AND t.isNonStop = {isNonStop}\n",
    "    AND t.destinationAirport = \"{destinationAirport}\"\n",
    "    LIMIT 10;\n",
    "    \"\"\"\n",
    "    response = mindsdb_query(session, sql_query)\n",
    "    response.raise_for_status()\n",
    "    if raw_request:\n",
    "        return response\n",
    "    data = response.json()\n",
    "    columns = data.get(\"column_names\")\n",
    "    dataset = data.get('data')\n",
    "    if dataset is None or data is None:\n",
    "        return []\n",
    "    web_ready_data = [dict(zip(columns, row)) for row in dataset]\n",
    "    return web_ready_data"
   ]
  },
  {
   "cell_type": "code",
   "execution_count": 14,
   "id": "4d8983f0-6b04-42a5-b5ae-746ec19f85f3",
   "metadata": {},
   "outputs": [],
   "source": [
    "session = get_mindsdb_session()\n",
    "query_response = predict_query(session, startingAirport=\"SFO\", destinationAirport=\"BOS\", raw_request=False)\n",
    "session.close()"
   ]
  },
  {
   "cell_type": "code",
   "execution_count": 16,
   "id": "176496e0-9ccf-4a2d-a7f6-4777ec66843a",
   "metadata": {},
   "outputs": [],
   "source": [
    "# data = query_response.json()\n",
    "# data.keys()"
   ]
  },
  {
   "cell_type": "code",
   "execution_count": 17,
   "id": "56e7c592-2405-4cda-a81e-645a50d5a812",
   "metadata": {},
   "outputs": [
    {
     "name": "stdout",
     "output_type": "stream",
     "text": [
      "[{'date': '2022-04-21 00:00:00.000000', 'airline': 'American Airlines', 'nonStop': '1', 'basic': '0', 'refundable': '0', 'price': 404.39715167400135}, {'date': '2022-04-21 00:00:00.000000', 'airline': 'JetBlue Airways', 'nonStop': '1', 'basic': '0', 'refundable': '0', 'price': 354.99898339656704}, {'date': '2022-04-21 00:00:00.000000', 'airline': 'Delta', 'nonStop': '1', 'basic': '0', 'refundable': '0', 'price': 352.59628080569775}, {'date': '2022-04-21 00:00:00.000000', 'airline': 'United', 'nonStop': '1', 'basic': '0', 'refundable': '0', 'price': 347.99920213019533}, {'date': '2022-04-21 00:00:00.000000', 'airline': 'Alaska Airlines', 'nonStop': '1', 'basic': '0', 'refundable': '0', 'price': 426.2468688253074}, {'date': '2022-04-22 00:00:00.000000', 'airline': 'American Airlines', 'nonStop': '1', 'basic': '0', 'refundable': '0', 'price': 404.40001195883394}, {'date': '2022-04-23 00:00:00.000000', 'airline': 'American Airlines', 'nonStop': '1', 'basic': '0', 'refundable': '0', 'price': 404.40001195883394}, {'date': '2022-04-24 00:00:00.000000', 'airline': 'American Airlines', 'nonStop': '1', 'basic': '0', 'refundable': '0', 'price': 404.40001195883394}, {'date': '2022-04-25 00:00:00.000000', 'airline': 'American Airlines', 'nonStop': '1', 'basic': '0', 'refundable': '0', 'price': 404.40001195883394}, {'date': '2022-04-26 00:00:00.000000', 'airline': 'American Airlines', 'nonStop': '1', 'basic': '0', 'refundable': '0', 'price': 404.40001195883394}]\n"
     ]
    }
   ],
   "source": [
    "print(query_response)"
   ]
  },
  {
   "cell_type": "code",
   "execution_count": 18,
   "id": "2c2722c5-7058-4b12-9618-e81f073215d0",
   "metadata": {},
   "outputs": [
    {
     "ename": "NameError",
     "evalue": "name 'data' is not defined",
     "output_type": "error",
     "traceback": [
      "\u001b[1;31m---------------------------------------------------------------------------\u001b[0m",
      "\u001b[1;31mNameError\u001b[0m                                 Traceback (most recent call last)",
      "Cell \u001b[1;32mIn[18], line 1\u001b[0m\n\u001b[1;32m----> 1\u001b[0m columns \u001b[38;5;241m=\u001b[39m \u001b[43mdata\u001b[49m\u001b[38;5;241m.\u001b[39mget(\u001b[38;5;124m\"\u001b[39m\u001b[38;5;124mcolumn_names\u001b[39m\u001b[38;5;124m\"\u001b[39m)\n\u001b[0;32m      2\u001b[0m dataset \u001b[38;5;241m=\u001b[39m data\u001b[38;5;241m.\u001b[39mget(\u001b[38;5;124m\"\u001b[39m\u001b[38;5;124mdata\u001b[39m\u001b[38;5;124m\"\u001b[39m)\n\u001b[0;32m      3\u001b[0m columns\n",
      "\u001b[1;31mNameError\u001b[0m: name 'data' is not defined"
     ]
    }
   ],
   "source": [
    "# columns = data.get(\"column_names\")\n",
    "# dataset = data.get(\"data\")\n",
    "# columns"
   ]
  },
  {
   "cell_type": "code",
   "execution_count": 20,
   "id": "afb7f875-0ccc-4f71-8fba-2d56fdbcfd42",
   "metadata": {},
   "outputs": [
    {
     "data": {
      "text/plain": [
       "[{'date': '2022-04-21 00:00:00.000000',\n",
       "  'airline': 'American Airlines',\n",
       "  'nonStop': '1',\n",
       "  'basic': '0',\n",
       "  'refundable': '0',\n",
       "  'price': 404.39715167400135},\n",
       " {'date': '2022-04-21 00:00:00.000000',\n",
       "  'airline': 'JetBlue Airways',\n",
       "  'nonStop': '1',\n",
       "  'basic': '0',\n",
       "  'refundable': '0',\n",
       "  'price': 354.99898339656704},\n",
       " {'date': '2022-04-21 00:00:00.000000',\n",
       "  'airline': 'Delta',\n",
       "  'nonStop': '1',\n",
       "  'basic': '0',\n",
       "  'refundable': '0',\n",
       "  'price': 352.59628080569775},\n",
       " {'date': '2022-04-21 00:00:00.000000',\n",
       "  'airline': 'United',\n",
       "  'nonStop': '1',\n",
       "  'basic': '0',\n",
       "  'refundable': '0',\n",
       "  'price': 347.99920213019533},\n",
       " {'date': '2022-04-21 00:00:00.000000',\n",
       "  'airline': 'Alaska Airlines',\n",
       "  'nonStop': '1',\n",
       "  'basic': '0',\n",
       "  'refundable': '0',\n",
       "  'price': 426.2468688253074},\n",
       " {'date': '2022-04-22 00:00:00.000000',\n",
       "  'airline': 'American Airlines',\n",
       "  'nonStop': '1',\n",
       "  'basic': '0',\n",
       "  'refundable': '0',\n",
       "  'price': 404.40001195883394},\n",
       " {'date': '2022-04-23 00:00:00.000000',\n",
       "  'airline': 'American Airlines',\n",
       "  'nonStop': '1',\n",
       "  'basic': '0',\n",
       "  'refundable': '0',\n",
       "  'price': 404.40001195883394},\n",
       " {'date': '2022-04-24 00:00:00.000000',\n",
       "  'airline': 'American Airlines',\n",
       "  'nonStop': '1',\n",
       "  'basic': '0',\n",
       "  'refundable': '0',\n",
       "  'price': 404.40001195883394},\n",
       " {'date': '2022-04-25 00:00:00.000000',\n",
       "  'airline': 'American Airlines',\n",
       "  'nonStop': '1',\n",
       "  'basic': '0',\n",
       "  'refundable': '0',\n",
       "  'price': 404.40001195883394},\n",
       " {'date': '2022-04-26 00:00:00.000000',\n",
       "  'airline': 'American Airlines',\n",
       "  'nonStop': '1',\n",
       "  'basic': '0',\n",
       "  'refundable': '0',\n",
       "  'price': 404.40001195883394}]"
      ]
     },
     "execution_count": 20,
     "metadata": {},
     "output_type": "execute_result"
    }
   ],
   "source": [
    "query_response"
   ]
  },
  {
   "cell_type": "code",
   "execution_count": 24,
   "id": "077af24f-51d0-42e8-b173-c2157a65bc9d",
   "metadata": {},
   "outputs": [],
   "source": [
    "pref = dict(flightDate=\"2022-04-21\", \n",
    "          startingAirport=\"LAX\", \n",
    "          isNonStop=1,\n",
    "          destinationAirport=\"JFK\",)\n",
    "options = query_response\n",
    "rec_context = json.dumps({\"options\": options, \"preferences\": pref})"
   ]
  },
  {
   "cell_type": "code",
   "execution_count": 25,
   "id": "515dbc3d-1c6f-432a-933a-fb00f1f1714c",
   "metadata": {},
   "outputs": [
    {
     "data": {
      "text/plain": [
       "'{\"options\": [{\"date\": \"2022-04-21 00:00:00.000000\", \"airline\": \"American Airlines\", \"nonStop\": \"1\", \"basic\": \"0\", \"refundable\": \"0\", \"price\": 404.39715167400135}, {\"date\": \"2022-04-21 00:00:00.000000\", \"airline\": \"JetBlue Airways\", \"nonStop\": \"1\", \"basic\": \"0\", \"refundable\": \"0\", \"price\": 354.99898339656704}, {\"date\": \"2022-04-21 00:00:00.000000\", \"airline\": \"Delta\", \"nonStop\": \"1\", \"basic\": \"0\", \"refundable\": \"0\", \"price\": 352.59628080569775}, {\"date\": \"2022-04-21 00:00:00.000000\", \"airline\": \"United\", \"nonStop\": \"1\", \"basic\": \"0\", \"refundable\": \"0\", \"price\": 347.99920213019533}, {\"date\": \"2022-04-21 00:00:00.000000\", \"airline\": \"Alaska Airlines\", \"nonStop\": \"1\", \"basic\": \"0\", \"refundable\": \"0\", \"price\": 426.2468688253074}, {\"date\": \"2022-04-22 00:00:00.000000\", \"airline\": \"American Airlines\", \"nonStop\": \"1\", \"basic\": \"0\", \"refundable\": \"0\", \"price\": 404.40001195883394}, {\"date\": \"2022-04-23 00:00:00.000000\", \"airline\": \"American Airlines\", \"nonStop\": \"1\", \"basic\": \"0\", \"refundable\": \"0\", \"price\": 404.40001195883394}, {\"date\": \"2022-04-24 00:00:00.000000\", \"airline\": \"American Airlines\", \"nonStop\": \"1\", \"basic\": \"0\", \"refundable\": \"0\", \"price\": 404.40001195883394}, {\"date\": \"2022-04-25 00:00:00.000000\", \"airline\": \"American Airlines\", \"nonStop\": \"1\", \"basic\": \"0\", \"refundable\": \"0\", \"price\": 404.40001195883394}, {\"date\": \"2022-04-26 00:00:00.000000\", \"airline\": \"American Airlines\", \"nonStop\": \"1\", \"basic\": \"0\", \"refundable\": \"0\", \"price\": 404.40001195883394}], \"preferences\": {\"flightDate\": \"2022-04-21\", \"startingAirport\": \"LAX\", \"isNonStop\": 1, \"destinationAirport\": \"JFK\"}}'"
      ]
     },
     "execution_count": 25,
     "metadata": {},
     "output_type": "execute_result"
    }
   ],
   "source": [
    "rec_context"
   ]
  },
  {
   "cell_type": "code",
   "execution_count": 44,
   "id": "de859330-4e81-4ea4-a52c-5fa0370e267e",
   "metadata": {},
   "outputs": [],
   "source": [
    "rec_sql_query = f\"\"\"\n",
    "    SELECT answer\n",
    "    FROM ai_travel_agent\n",
    "    WHERE question=\"Respond with JSON only, What is the best flight option?\"\n",
    "    AND context='{rec_context}';\n",
    "    \"\"\""
   ]
  },
  {
   "cell_type": "code",
   "execution_count": 32,
   "id": "09a5c535-31fa-4de9-9732-a3f7fa02173d",
   "metadata": {},
   "outputs": [],
   "source": [
    "session = get_mindsdb_session()\n",
    "rec_prediction_response = mindsdb_query(session, rec_sql_query)\n",
    "session.close()"
   ]
  },
  {
   "cell_type": "code",
   "execution_count": 33,
   "id": "7bfe61bf-087d-4bbd-ac82-81c8dff3fc04",
   "metadata": {},
   "outputs": [
    {
     "data": {
      "text/plain": [
       "{'column_names': ['answer'],\n",
       " 'context': {'db': 'mindsdb'},\n",
       " 'data': [['The best flight option is with United Airlines for $347.999.']],\n",
       " 'type': 'table'}"
      ]
     },
     "execution_count": 33,
     "metadata": {},
     "output_type": "execute_result"
    }
   ],
   "source": [
    "rec_prediction_response.json()"
   ]
  },
  {
   "cell_type": "code",
   "execution_count": 38,
   "id": "51ef2851-fa02-4878-bdbd-fda524b2b9f0",
   "metadata": {},
   "outputs": [
    {
     "data": {
      "text/plain": [
       "'{\"options\": [{\"date\": \"2022-04-21 00:00:00.000000\", \"airline\": \"United\", \"nonStop\": \"1\", \"basic\": \"0\", \"refundable\": \"0\", \"price\": 481.75790609878334}, {\"date\": \"2022-04-21 00:00:00.000000\", \"airline\": \"Delta\", \"nonStop\": \"1\", \"basic\": \"0\", \"refundable\": \"0\", \"price\": 423.995500019981}, {\"date\": \"2022-04-21 00:00:00.000000\", \"airline\": \"American Airlines\", \"nonStop\": \"1\", \"basic\": \"0\", \"refundable\": \"0\", \"price\": 439.79413415008287}, {\"date\": \"2022-04-21 00:00:00.000000\", \"airline\": \"JetBlue Airways\", \"nonStop\": \"1\", \"basic\": \"0\", \"refundable\": \"0\", \"price\": 414.99701251022907}, {\"date\": \"2022-04-22 00:00:00.000000\", \"airline\": \"JetBlue Airways\", \"nonStop\": \"1\", \"basic\": \"0\", \"refundable\": \"0\", \"price\": 415.00261280897803}, {\"date\": \"2022-04-23 00:00:00.000000\", \"airline\": \"JetBlue Airways\", \"nonStop\": \"1\", \"basic\": \"0\", \"refundable\": \"0\", \"price\": 415.00261280897803}, {\"date\": \"2022-04-24 00:00:00.000000\", \"airline\": \"JetBlue Airways\", \"nonStop\": \"1\", \"basic\": \"0\", \"refundable\": \"0\", \"price\": 415.00261280897803}, {\"date\": \"2022-04-25 00:00:00.000000\", \"airline\": \"JetBlue Airways\", \"nonStop\": \"1\", \"basic\": \"0\", \"refundable\": \"0\", \"price\": 415.00261280897803}, {\"date\": \"2022-04-26 00:00:00.000000\", \"airline\": \"JetBlue Airways\", \"nonStop\": \"1\", \"basic\": \"0\", \"refundable\": \"0\", \"price\": 415.00261280897803}, {\"date\": \"2022-04-27 00:00:00.000000\", \"airline\": \"JetBlue Airways\", \"nonStop\": \"1\", \"basic\": \"0\", \"refundable\": \"0\", \"price\": 415.00261280897803}], \"preferences\": {\"flightDate\": \"2022-04-21\", \"startingAirport\": \"LAX\", \"isNonStop\": 1, \"destinationAirport\": \"JFK\"}}'"
      ]
     },
     "execution_count": 38,
     "metadata": {},
     "output_type": "execute_result"
    }
   ],
   "source": [
    "pref = dict(flightDate=\"2022-04-21\", \n",
    "          startingAirport=\"LAX\", \n",
    "          isNonStop=1,\n",
    "          destinationAirport=\"JFK\",)\n",
    "query_response = predict_query(session, **pref)\n",
    "options = query_response\n",
    "rec_context = json.dumps({\"options\": options, \"preferences\": pref})\n",
    "rec_context"
   ]
  },
  {
   "cell_type": "code",
   "execution_count": 45,
   "id": "a154a973-5162-46ad-8313-27964d5ca324",
   "metadata": {},
   "outputs": [],
   "source": [
    "session = get_mindsdb_session()\n",
    "rec_prediction_response = mindsdb_query(session, rec_sql_query)\n",
    "session.close()"
   ]
  },
  {
   "cell_type": "code",
   "execution_count": 46,
   "id": "704c9434-33fe-454b-9261-9a8c4b32ab4a",
   "metadata": {},
   "outputs": [
    {
     "data": {
      "text/plain": [
       "{'column_names': ['answer'],\n",
       " 'context': {'db': 'mindsdb'},\n",
       " 'data': [['{\"date\": \"2022-04-21 00:00:00.000000\", \"airline\": \"Delta\", \"nonStop\": \"1\", \"basic\": \"0\", \"refundable\": \"0\", \"price\": 423.995500019981}']],\n",
       " 'type': 'table'}"
      ]
     },
     "execution_count": 46,
     "metadata": {},
     "output_type": "execute_result"
    }
   ],
   "source": [
    "rec_prediction_response.json()"
   ]
  },
  {
   "cell_type": "code",
   "execution_count": 48,
   "id": "5badccb1-f4c9-4ac1-808b-b83ff7024308",
   "metadata": {},
   "outputs": [],
   "source": [
    "def recomended_flight(session, \n",
    "                  user_data = {}, \n",
    "                  forecast_data = [], \n",
    "                  question = \"Respond with JSON only, What is the best flight option?\", \n",
    "                  raw_request=False,\n",
    "                  **kwargs):\n",
    "    context = {\"options\": forecast_data, \"preferences\": user_data}\n",
    "    context_data = json.dumps(context)\n",
    "    sql_query = f\"\"\"\n",
    "    SELECT answer\n",
    "    FROM ai_travel_agent\n",
    "    WHERE question='{question}'\n",
    "    AND context='{context_data}';\n",
    "    \"\"\"\n",
    "    response = mindsdb_query(session, sql_query)\n",
    "    response.raise_for_status()\n",
    "    if raw_request:\n",
    "        return response\n",
    "    data = response.json()\n",
    "    dataset = data.get('data')\n",
    "    if dataset is None or data is None:\n",
    "        return []\n",
    "    if isinstance(dataset, list):\n",
    "        sub_dataset = dataset[0]\n",
    "        if isinstance(sub_dataset, list):\n",
    "            return sub_dataset[0]\n",
    "        return sub_dataset\n",
    "    return dataset"
   ]
  },
  {
   "cell_type": "code",
   "execution_count": 50,
   "id": "593a9fcb-474b-4242-97bd-eeb6bc040c82",
   "metadata": {},
   "outputs": [
    {
     "data": {
      "text/plain": [
       "{'date': '2022-04-21 00:00:00.000000',\n",
       " 'airline': 'Delta',\n",
       " 'nonStop': '1',\n",
       " 'basic': '0',\n",
       " 'refundable': '0',\n",
       " 'price': 423.995500019981}"
      ]
     },
     "execution_count": 50,
     "metadata": {},
     "output_type": "execute_result"
    }
   ],
   "source": [
    "json.loads(recomended_flight(session, pref, query_response))"
   ]
  },
  {
   "cell_type": "code",
   "execution_count": null,
   "id": "b1d1ddf5-5ac8-4ab6-bc03-9c7416e28a26",
   "metadata": {},
   "outputs": [],
   "source": []
  }
 ],
 "metadata": {
  "kernelspec": {
   "display_name": "Python 3 (ipykernel)",
   "language": "python",
   "name": "python3"
  },
  "language_info": {
   "codemirror_mode": {
    "name": "ipython",
    "version": 3
   },
   "file_extension": ".py",
   "mimetype": "text/x-python",
   "name": "python",
   "nbconvert_exporter": "python",
   "pygments_lexer": "ipython3",
   "version": "3.12.0"
  }
 },
 "nbformat": 4,
 "nbformat_minor": 5
}
