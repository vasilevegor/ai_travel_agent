{
 "cells": [
  {
   "cell_type": "code",
   "execution_count": 1,
   "id": "eb1c6ab8-7544-4d23-b27e-86053c7afb6c",
   "metadata": {},
   "outputs": [],
   "source": [
    "from env import config\n",
    "import requests"
   ]
  },
  {
   "cell_type": "code",
   "execution_count": 2,
   "id": "1f315262-3cd4-4f05-b002-85fda59e331d",
   "metadata": {},
   "outputs": [],
   "source": [
    "MINDSDB_UN = config(\"MINDSDB_UN\", default=None)\n",
    "MINDSDB_PW = config(\"MINDSDB_PW\", default=None)\n",
    "assert MINDSDB_UN is not None\n",
    "assert MINDSDB_PW is not None\n",
    "\n",
    "\n",
    "MINDSDB_BASE_URL = \"https://cloud.mindsdb.com/api\""
   ]
  },
  {
   "cell_type": "code",
   "execution_count": 3,
   "id": "dbc52daf-fb12-4f50-ac5c-2d99ee80d7c6",
   "metadata": {},
   "outputs": [],
   "source": [
    "def get_mindsdb_session():\n",
    "    session = requests.Session()\n",
    "    session.post('https://cloud.mindsdb.com/cloud/login', json={\n",
    "        'email': MINDSDB_UN,\n",
    "        'password': MINDSDB_PW\n",
    "    })\n",
    "    return session"
   ]
  },
  {
   "cell_type": "code",
   "execution_count": 4,
   "id": "2d64c425-c461-4b37-b7ea-b0afbc3c1e9e",
   "metadata": {},
   "outputs": [],
   "source": [
    "def mindsdb_query(session, sql_query):\n",
    "    endpoint = \"/sql/query\"\n",
    "    url = f\"{MINDSDB_BASE_URL}{endpoint}\"\n",
    "    headers = {\"Content-Type\": \"application/json\"}\n",
    "    return session.post(url, json={\"query\": sql_query}, headers=headers)"
   ]
  },
  {
   "cell_type": "code",
   "execution_count": 29,
   "id": "3660c3ad-1eec-4b40-b648-6c86a37108b9",
   "metadata": {},
   "outputs": [],
   "source": [
    "def predict_query(session, \n",
    "                  flightDate=\"2022-04-21\", \n",
    "                  startingAirport=\"LAX\", \n",
    "                  isNonStop=1, \n",
    "                  destinationAirport=\"JFK\",\n",
    "                  raw_request=False\n",
    "                 ):\n",
    "    sql_query = f\"\"\"\n",
    "    SELECT m.flightDate, m.segmentsAirlineName, m.isNonStop, m.totalFare, m.totalFare_confidence \n",
    "    FROM mindsdb.flight_price_predictor AS m\n",
    "    JOIN ai_travel_agent.flight_prices AS t\n",
    "    WHERE t.flightDate = \"{flightDate}\"\n",
    "    AND t.startingAirport = \"{startingAirport}\"\n",
    "    AND t.isNonStop = {isNonStop}\n",
    "    AND t.destinationAirport = \"{destinationAirport}\";\n",
    "    \"\"\"\n",
    "    response = mindsdb_query(session, sql_query)\n",
    "    response.raise_for_status()\n",
    "    if raw_request:\n",
    "        return response\n",
    "    data = query_response.json()\n",
    "    columns = data.get(\"column_names\")\n",
    "    dataset = data.get(\"data\")\n",
    "    web_ready_data = [dict(zip(columns, row)) for row in dataset]\n",
    "    return web_ready_data"
   ]
  },
  {
   "cell_type": "code",
   "execution_count": 36,
   "id": "4d8983f0-6b04-42a5-b5ae-746ec19f85f3",
   "metadata": {},
   "outputs": [],
   "source": [
    "session = get_mindsdb_session()\n",
    "query_response = predict_query(session, startingAirport=\"SFO\", destinationAirport=\"BOS\", raw_request=False)\n",
    "session.close()"
   ]
  },
  {
   "cell_type": "code",
   "execution_count": 37,
   "id": "176496e0-9ccf-4a2d-a7f6-4777ec66843a",
   "metadata": {},
   "outputs": [
    {
     "ename": "AttributeError",
     "evalue": "'list' object has no attribute 'json'",
     "output_type": "error",
     "traceback": [
      "\u001b[1;31m---------------------------------------------------------------------------\u001b[0m",
      "\u001b[1;31mAttributeError\u001b[0m                            Traceback (most recent call last)",
      "Cell \u001b[1;32mIn[37], line 1\u001b[0m\n\u001b[1;32m----> 1\u001b[0m data \u001b[38;5;241m=\u001b[39m \u001b[43mquery_response\u001b[49m\u001b[38;5;241;43m.\u001b[39;49m\u001b[43mjson\u001b[49m()\n\u001b[0;32m      2\u001b[0m data\u001b[38;5;241m.\u001b[39mkeys()\n",
      "\u001b[1;31mAttributeError\u001b[0m: 'list' object has no attribute 'json'"
     ]
    }
   ],
   "source": [
    "data = query_response.json()\n",
    "data.keys()"
   ]
  },
  {
   "cell_type": "code",
   "execution_count": 38,
   "id": "56e7c592-2405-4cda-a81e-645a50d5a812",
   "metadata": {},
   "outputs": [
    {
     "name": "stdout",
     "output_type": "stream",
     "text": [
      "[{'flightDate': '2022-04-21 00:00:00.000000', 'segmentsAirlineName': 'Delta', 'isNonStop': '1', 'totalFare': 352.59628080569775, 'totalFare_confidence': 0.9991}, {'flightDate': '2022-04-21 00:00:00.000000', 'segmentsAirlineName': 'American Airlines', 'isNonStop': '1', 'totalFare': 404.39715167400135, 'totalFare_confidence': 0.9991}, {'flightDate': '2022-04-21 00:00:00.000000', 'segmentsAirlineName': 'JetBlue Airways', 'isNonStop': '1', 'totalFare': 354.99898339656704, 'totalFare_confidence': 0.9991}, {'flightDate': '2022-04-21 00:00:00.000000', 'segmentsAirlineName': 'United', 'isNonStop': '1', 'totalFare': 347.99920213019533, 'totalFare_confidence': 0.9991}, {'flightDate': '2022-04-21 00:00:00.000000', 'segmentsAirlineName': 'Alaska Airlines', 'isNonStop': '1', 'totalFare': 426.23859268457585, 'totalFare_confidence': 0.9991}]\n"
     ]
    }
   ],
   "source": [
    "print(query_response)"
   ]
  },
  {
   "cell_type": "code",
   "execution_count": 39,
   "id": "2c2722c5-7058-4b12-9618-e81f073215d0",
   "metadata": {},
   "outputs": [
    {
     "data": {
      "text/plain": [
       "['flightDate',\n",
       " 'segmentsAirlineName',\n",
       " 'isNonStop',\n",
       " 'totalFare',\n",
       " 'totalFare_confidence']"
      ]
     },
     "execution_count": 39,
     "metadata": {},
     "output_type": "execute_result"
    }
   ],
   "source": [
    "columns = data.get(\"column_names\")\n",
    "dataset = data.get(\"data\")\n",
    "columns"
   ]
  },
  {
   "cell_type": "code",
   "execution_count": 40,
   "id": "7bc852b7-d9a4-4ec5-a50d-0ba207dd2476",
   "metadata": {},
   "outputs": [
    {
     "data": {
      "text/plain": [
       "[['2022-04-21 00:00:00.000000', 'Delta', '1', 352.59628080569775, 0.9991],\n",
       " ['2022-04-21 00:00:00.000000',\n",
       "  'American Airlines',\n",
       "  '1',\n",
       "  404.39715167400135,\n",
       "  0.9991],\n",
       " ['2022-04-21 00:00:00.000000',\n",
       "  'JetBlue Airways',\n",
       "  '1',\n",
       "  354.99898339656704,\n",
       "  0.9991],\n",
       " ['2022-04-21 00:00:00.000000', 'United', '1', 347.99920213019533, 0.9991],\n",
       " ['2022-04-21 00:00:00.000000',\n",
       "  'Alaska Airlines',\n",
       "  '1',\n",
       "  426.23859268457585,\n",
       "  0.9991]]"
      ]
     },
     "execution_count": 40,
     "metadata": {},
     "output_type": "execute_result"
    }
   ],
   "source": [
    "dataset"
   ]
  },
  {
   "cell_type": "code",
   "execution_count": 42,
   "id": "afb7f875-0ccc-4f71-8fba-2d56fdbcfd42",
   "metadata": {},
   "outputs": [
    {
     "data": {
      "text/plain": [
       "[{'flightDate': '2022-04-21 00:00:00.000000',\n",
       "  'segmentsAirlineName': 'Delta',\n",
       "  'isNonStop': '1',\n",
       "  'totalFare': 352.59628080569775,\n",
       "  'totalFare_confidence': 0.9991},\n",
       " {'flightDate': '2022-04-21 00:00:00.000000',\n",
       "  'segmentsAirlineName': 'American Airlines',\n",
       "  'isNonStop': '1',\n",
       "  'totalFare': 404.39715167400135,\n",
       "  'totalFare_confidence': 0.9991},\n",
       " {'flightDate': '2022-04-21 00:00:00.000000',\n",
       "  'segmentsAirlineName': 'JetBlue Airways',\n",
       "  'isNonStop': '1',\n",
       "  'totalFare': 354.99898339656704,\n",
       "  'totalFare_confidence': 0.9991},\n",
       " {'flightDate': '2022-04-21 00:00:00.000000',\n",
       "  'segmentsAirlineName': 'United',\n",
       "  'isNonStop': '1',\n",
       "  'totalFare': 347.99920213019533,\n",
       "  'totalFare_confidence': 0.9991},\n",
       " {'flightDate': '2022-04-21 00:00:00.000000',\n",
       "  'segmentsAirlineName': 'Alaska Airlines',\n",
       "  'isNonStop': '1',\n",
       "  'totalFare': 426.23859268457585,\n",
       "  'totalFare_confidence': 0.9991}]"
      ]
     },
     "execution_count": 42,
     "metadata": {},
     "output_type": "execute_result"
    }
   ],
   "source": [
    "query_response"
   ]
  },
  {
   "cell_type": "code",
   "execution_count": null,
   "id": "de859330-4e81-4ea4-a52c-5fa0370e267e",
   "metadata": {},
   "outputs": [],
   "source": []
  },
  {
   "cell_type": "code",
   "execution_count": null,
   "id": "09a5c535-31fa-4de9-9732-a3f7fa02173d",
   "metadata": {},
   "outputs": [],
   "source": []
  }
 ],
 "metadata": {
  "kernelspec": {
   "display_name": "Python 3 (ipykernel)",
   "language": "python",
   "name": "python3"
  },
  "language_info": {
   "codemirror_mode": {
    "name": "ipython",
    "version": 3
   },
   "file_extension": ".py",
   "mimetype": "text/x-python",
   "name": "python",
   "nbconvert_exporter": "python",
   "pygments_lexer": "ipython3",
   "version": "3.12.0"
  }
 },
 "nbformat": 4,
 "nbformat_minor": 5
}
