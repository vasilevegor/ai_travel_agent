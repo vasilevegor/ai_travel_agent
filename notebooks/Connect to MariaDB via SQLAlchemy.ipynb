{
 "cells": [
  {
   "cell_type": "code",
   "execution_count": 1,
   "id": "28669c6c-9546-4619-b00f-3c65bcc27a98",
   "metadata": {},
   "outputs": [],
   "source": [
    "from env import config\n",
    "from sqlalchemy import create_engine, text"
   ]
  },
  {
   "cell_type": "code",
   "execution_count": 4,
   "id": "b1ecc018-ef9e-4bd7-ac68-b9a62edb1f8a",
   "metadata": {},
   "outputs": [
    {
     "data": {
      "text/plain": [
       "True"
      ]
     },
     "execution_count": 4,
     "metadata": {},
     "output_type": "execute_result"
    }
   ],
   "source": [
    "DATABASE_URL = config(\"DATABASE_URL\", cast=str, default=None)\n",
    "DATABASE_URL is not None"
   ]
  },
  {
   "cell_type": "code",
   "execution_count": 5,
   "id": "9309f215-1ac4-4b59-a35a-3f63acb00f3b",
   "metadata": {},
   "outputs": [],
   "source": [
    "engine = create_engine(str(DATABASE_URL))"
   ]
  },
  {
   "cell_type": "code",
   "execution_count": 6,
   "id": "d47a13f2-d43b-4500-9e4d-0e7db2ce512d",
   "metadata": {},
   "outputs": [],
   "source": [
    "DB_NAME = \"housing_db\"\n",
    "with engine.connect() as conn:\n",
    "    conn.execute(text(f\"CREATE DATABASE {DB_NAME}\"))"
   ]
  },
  {
   "cell_type": "code",
   "execution_count": 7,
   "id": "48475ef8-d188-4583-aae0-4ac1c35eb0d1",
   "metadata": {},
   "outputs": [],
   "source": [
    "DB_NAME = \"ai_travel_prices\"\n",
    "with engine.connect() as conn:\n",
    "    conn.execute(text(f\"CREATE DATABASE {DB_NAME}\"))"
   ]
  },
  {
   "cell_type": "code",
   "execution_count": null,
   "id": "21740bf5-cff0-4a81-bb76-dc36c853c962",
   "metadata": {},
   "outputs": [],
   "source": []
  }
 ],
 "metadata": {
  "kernelspec": {
   "display_name": "Python 3 (ipykernel)",
   "language": "python",
   "name": "python3"
  },
  "language_info": {
   "codemirror_mode": {
    "name": "ipython",
    "version": 3
   },
   "file_extension": ".py",
   "mimetype": "text/x-python",
   "name": "python",
   "nbconvert_exporter": "python",
   "pygments_lexer": "ipython3",
   "version": "3.12.0"
  }
 },
 "nbformat": 4,
 "nbformat_minor": 5
}
